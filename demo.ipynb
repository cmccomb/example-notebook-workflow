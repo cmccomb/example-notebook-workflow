{
  "nbformat": 4,
  "nbformat_minor": 0,
  "metadata": {
    "colab": {
      "provenance": [],
      "authorship_tag": "ABX9TyMF5LX/CWOXLBuZXQSmCFns",
      "include_colab_link": true
    },
    "kernelspec": {
      "name": "python3",
      "display_name": "Python 3"
    },
    "language_info": {
      "name": "python"
    }
  },
  "cells": [
    {
      "cell_type": "markdown",
      "metadata": {
        "id": "view-in-github",
        "colab_type": "text"
      },
      "source": [
        "<a href=\"https://colab.research.google.com/github/cmccomb/example-notebook-workflow/blob/main/demo.ipynb\" target=\"_parent\"><img src=\"https://colab.research.google.com/assets/colab-badge.svg\" alt=\"Open In Colab\"/></a>"
      ]
    },
    {
      "cell_type": "code",
      "metadata": {
        "id": "a2eb63cd"
      },
      "source": [
        "# @title Additional Inputs for Calculation\n",
        "# @markdown This is a form that takes some basic inputs\n",
        "principal_amount = 100  # @param {type: \"number\"}\n",
        "# @markdown This is a form that takes some basic inputs\n",
        "interest_rate = 0.1 # @param {type: \"number\"}\n",
        "time_in_years = 3 # @param {type: \"number\"}"
      ],
      "execution_count": 3,
      "outputs": []
    },
    {
      "cell_type": "code",
      "source": [
        "def perform_calculations(principal_amount, interest_rate, time_in_years):\n",
        "  \"\"\"\n",
        "  Performs some calculations based on the provided inputs, including simple interest.\n",
        "\n",
        "  Args:\n",
        "    principal_amount: The principal amount for interest calculation.\n",
        "    interest_rate: The annual interest rate.\n",
        "    time_in_years: The time in years for interest calculation.\n",
        "\n",
        "  Returns:\n",
        "    The results of the calculation.\n",
        "  \"\"\"\n",
        "\n",
        "  # Simple Interest Calculation\n",
        "  return principal_amount * interest_rate * time_in_years"
      ],
      "metadata": {
        "id": "rit1xfFB50C5"
      },
      "execution_count": 4,
      "outputs": []
    },
    {
      "cell_type": "code",
      "source": [],
      "metadata": {
        "id": "e0FxYzxafcnP"
      },
      "execution_count": 4,
      "outputs": []
    },
    {
      "cell_type": "code",
      "source": [
        "perform_calculations(principal_amount, interest_rate, time_in_years)"
      ],
      "metadata": {
        "colab": {
          "base_uri": "https://localhost:8080/"
        },
        "id": "1lHaHier6dOr",
        "outputId": "782ed67e-7722-446c-f145-3c7ea1d191d5"
      },
      "execution_count": 5,
      "outputs": [
        {
          "output_type": "execute_result",
          "data": {
            "text/plain": [
              "300.0"
            ]
          },
          "metadata": {},
          "execution_count": 5
        }
      ]
    },
    {
      "cell_type": "code",
      "source": [],
      "metadata": {
        "id": "gzFzDEqOfc9S"
      },
      "execution_count": null,
      "outputs": []
    }
  ]
}